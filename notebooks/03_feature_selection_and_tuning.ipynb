{
 "cells": [
  {
   "cell_type": "code",
   "execution_count": 3,
   "id": "57fccabc-4f0d-4253-a326-2fabf1d6988a",
   "metadata": {},
   "outputs": [],
   "source": [
    "# Import necessary libraries\n",
    "import pandas as pd\n",
    "import numpy as np\n",
    "from sklearn.model_selection import train_test_split, GridSearchCV\n",
    "from sklearn.discriminant_analysis import LinearDiscriminantAnalysis\n",
    "from sklearn.feature_selection import RFE\n",
    "from sklearn.metrics import classification_report, confusion_matrix, ConfusionMatrixDisplay\n",
    "import matplotlib.pyplot as plt\n",
    "import joblib"
   ]
  },
  {
   "cell_type": "code",
   "execution_count": 4,
   "id": "3993368e-193a-403a-a01a-182be4cc7991",
   "metadata": {},
   "outputs": [
    {
     "name": "stdout",
     "output_type": "stream",
     "text": [
      "Train shape: (32950, 63), Test shape: (8238, 63)\n"
     ]
    }
   ],
   "source": [
    "# Load preprocessed data saved from the first notebook\n",
    "df = pd.read_csv(r\"C:\\Users\\nimak\\Documents\\Projects\\bank-marketing-classification\\data\\bank_marketing_processed.csv\")\n",
    "\n",
    "# Separate features and target\n",
    "X = df.drop('y', axis=1)\n",
    "y = df['y']\n",
    "\n",
    "# Split the data into train and test sets with stratification\n",
    "X_train, X_test, y_train, y_test = train_test_split(\n",
    "    X, y, test_size=0.2, random_state=42, stratify=y)\n",
    "\n",
    "print(f\"Train shape: {X_train.shape}, Test shape: {X_test.shape}\")\n"
   ]
  },
  {
   "cell_type": "code",
   "execution_count": 5,
   "id": "81768d47-d19e-4294-99e0-7b37af4f04a2",
   "metadata": {},
   "outputs": [
    {
     "name": "stdout",
     "output_type": "stream",
     "text": [
      "Selected features after RFE: Index(['duration', 'emp.var.rate', 'cons.price.idx', 'euribor3m', 'month_apr',\n",
      "       'month_aug', 'month_jun', 'month_mar', 'month_may', 'poutcome_success'],\n",
      "      dtype='object')\n"
     ]
    }
   ],
   "source": [
    "# Initialize LDA model\n",
    "lda = LinearDiscriminantAnalysis()\n",
    "\n",
    "# Initialize RFE for feature selection (we'll select the top 10 features)\n",
    "rfe = RFE(lda, n_features_to_select=10)\n",
    "X_train_rfe = rfe.fit_transform(X_train, y_train)\n",
    "\n",
    "# Print selected features\n",
    "selected_features = X_train.columns[rfe.support_]\n",
    "print(f\"Selected features after RFE: {selected_features}\")"
   ]
  },
  {
   "cell_type": "code",
   "execution_count": null,
   "id": "e590e1f7-6ebf-43b0-b995-f47c2fa18c9e",
   "metadata": {},
   "outputs": [],
   "source": [
    "# Cell 4: Drop highly correlated features and run GridSearchCV on LDA\n",
    "\n",
    "from sklearn.model_selection import GridSearchCV\n",
    "from sklearn.discriminant_analysis import LinearDiscriminantAnalysis\n",
    "\n",
    "# Step 1: Drop highly correlated features (correlation > 0.95)\n",
    "corr_matrix = X_train.corr().abs()  # Get absolute correlations\n",
    "upper = corr_matrix.where(np.triu(np.ones(corr_matrix.shape), k=1).astype(bool))\n",
    "\n",
    "# Identify columns to drop\n",
    "to_drop = [column for column in upper.columns if any(upper[column] > 0.95)]\n",
    "print(f\"Highly correlated features to drop: {to_drop}\")\n",
    "\n",
    "# Drop from train and test sets\n",
    "X_train = X_train.drop(columns=to_drop)\n",
    "X_test = X_test.drop(columns=to_drop)\n",
    "\n",
    "# Step 2: Define a safe LDA hyperparameter grid\n",
    "# Note: Only 'lsqr' supports shrinkage, and n_components must be <= 1 for binary classification\n",
    "param_grid = {\n",
    "    'solver': ['lsqr'],             # 'lsqr' supports shrinkage and avoids svd/eigen pitfalls\n",
    "    'shrinkage': ['auto'],          # Enables regularization\n",
    "    'n_components': [1]             # Valid for binary classification (n_classes - 1)\n",
    "}\n",
    "\n",
    "# Step 3: Grid search with 5-fold CV\n",
    "grid_search = GridSearchCV(\n",
    "    estimator=LinearDiscriminantAnalysis(),\n",
    "    param_grid=param_grid,\n",
    "    cv=5,\n",
    "    scoring='accuracy',\n",
    "    verbose=1,\n",
    "    error_score='raise'\n",
    ")\n",
    "\n",
    "# Step 4: Fit model\n",
    "grid_search.fit(X_train, y_train)\n",
    "\n",
    "# Step 5: Output the best parameters\n",
    "print(\"Best parameters found by GridSearchCV:\")\n",
    "print(grid_search.best_params_)"
   ]
  },
  {
   "cell_type": "code",
   "execution_count": null,
   "id": "9834bc24-4d8e-4e8f-b125-e0b3c489e713",
   "metadata": {},
   "outputs": [],
   "source": [
    "# Use the best model from GridSearchCV\n",
    "best_lda = grid_search.best_estimator_\n",
    "\n",
    "# Predict on the test set\n",
    "y_pred = best_lda.predict(X_test)\n",
    "\n",
    "# Print classification report\n",
    "print(\"📊 Classification Report for Best LDA Model:\")\n",
    "print(classification_report(y_test, y_pred))\n",
    "\n",
    "# Generate and display confusion matrix\n",
    "cm = confusion_matrix(y_test, y_pred)\n",
    "disp = ConfusionMatrixDisplay(confusion_matrix=cm, display_labels=best_lda.classes_)\n",
    "\n",
    "disp.plot(cmap=plt.cm.Blues)\n",
    "plt.title(\"Confusion Matrix: Best LDA Model\")\n",
    "plt.grid(False)\n",
    "plt.show()\n"
   ]
  },
  {
   "cell_type": "code",
   "execution_count": null,
   "id": "038277e2-77a3-4e85-9ec8-325cd19652ee",
   "metadata": {},
   "outputs": [],
   "source": [
    "print(f\"Number of features after dropping: {X_train.shape[1]}\")\n",
    "features = X_train.columns.tolist()\n",
    "print(f\"Total features: {len(features)}\")\n",
    "print(\"Feature names:\", features)\n",
    "print(f\"Features dropped due to high correlation: {len(to_drop)}\")\n",
    "print(\"Dropped feature names:\", to_drop)"
   ]
  },
  {
   "cell_type": "code",
   "execution_count": null,
   "id": "69fb09de-3394-4592-9eb2-ad9511c62578",
   "metadata": {},
   "outputs": [],
   "source": [
    "# Save the best LDA model\n",
    "joblib.dump(best_lda, \"best_lda_model.pkl\")\n",
    "\n",
    "print(\"✅ Model saved as best_lda_model.pkl\")"
   ]
  },
  {
   "cell_type": "code",
   "execution_count": null,
   "id": "99731599-6ba6-458c-8844-d0e16a3bef2e",
   "metadata": {},
   "outputs": [],
   "source": []
  }
 ],
 "metadata": {
  "kernelspec": {
   "display_name": "Python (venv)",
   "language": "python",
   "name": "venv"
  },
  "language_info": {
   "codemirror_mode": {
    "name": "ipython",
    "version": 3
   },
   "file_extension": ".py",
   "mimetype": "text/x-python",
   "name": "python",
   "nbconvert_exporter": "python",
   "pygments_lexer": "ipython3",
   "version": "3.11.0"
  }
 },
 "nbformat": 4,
 "nbformat_minor": 5
}
