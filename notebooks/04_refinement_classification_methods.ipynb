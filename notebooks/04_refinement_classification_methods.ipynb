{
 "cells": [
  {
   "cell_type": "code",
   "execution_count": 18,
   "id": "60799410-d3ec-4773-8245-ceacae5159bd",
   "metadata": {},
   "outputs": [],
   "source": [
    "# Import libraries for data handling, visualization, modeling, and evaluation\n",
    "import pandas as pd\n",
    "import numpy as np\n",
    "import matplotlib.pyplot as plt\n",
    "import seaborn as sns\n",
    "from sklearn.naive_bayes import GaussianNB\n",
    "from sklearn.tree import DecisionTreeClassifier\n",
    "from sklearn.svm import SVC\n",
    "from sklearn.preprocessing import StandardScaler\n",
    "from itertools import combinations\n",
    "from sklearn.metrics import f1_score\n",
    "from sklearn.ensemble import GradientBoostingClassifier, StackingClassifier\n",
    "from sklearn.linear_model import LogisticRegression\n",
    "from sklearn.model_selection import GridSearchCV, train_test_split\n",
    "from sklearn.metrics import classification_report, confusion_matrix, precision_recall_curve\n",
    "import joblib"
   ]
  },
  {
   "cell_type": "code",
   "execution_count": 19,
   "id": "16c2ca55-bc73-4bec-b6ca-710ed0bac41f",
   "metadata": {},
   "outputs": [],
   "source": [
    "# Load the preprocessed dataset created earlier\n",
    "full_df = pd.read_csv(r\"C:\\Users\\nimak\\Documents\\Projects\\bank-marketing-classification\\data\\bank_marketing_processed.csv\")\n",
    "X = full_df.drop('y', axis=1)\n",
    "y = full_df['y']"
   ]
  },
  {
   "cell_type": "code",
   "execution_count": 20,
   "id": "c5d16d23-0d80-4b40-8764-c5508cd53231",
   "metadata": {},
   "outputs": [],
   "source": [
    "# Load the trained Gradient Boosting model and get feature importances\n",
    "model = joblib.load('best_model_gradient_boosting.pkl')\n",
    "importances = model.feature_importances_\n",
    "features = X.columns\n",
    "\n",
    "importance_df = pd.DataFrame({\n",
    "    'Feature': features,\n",
    "    'Importance': importances\n",
    "}).sort_values(by='Importance', ascending=False)\n",
    "\n",
    "# Select features with importance greater than a threshold\n",
    "selected_features = importance_df[importance_df['Importance'] > 0.01]['Feature'].tolist()\n",
    "X_selected = X[selected_features]"
   ]
  },
  {
   "cell_type": "code",
   "execution_count": 21,
   "id": "af3260a7-f3d8-4ed3-a7cc-415a11c13558",
   "metadata": {},
   "outputs": [],
   "source": [
    "# Split data using only the selected important features\n",
    "X_train, X_test, y_train, y_test = train_test_split(\n",
    "    X_selected, y, test_size=0.2, random_state=42, stratify=y\n",
    ")"
   ]
  },
  {
   "cell_type": "code",
   "execution_count": 22,
   "id": "aeff6e7b-6c31-4d5f-9194-9628c5ed43cb",
   "metadata": {},
   "outputs": [
    {
     "name": "stdout",
     "output_type": "stream",
     "text": [
      "Fitting 5 folds for each of 18 candidates, totalling 90 fits\n",
      "Best Parameters: {'learning_rate': 0.05, 'max_depth': 4, 'n_estimators': 100}\n"
     ]
    }
   ],
   "source": [
    "# Tune hyperparameters of Gradient Boosting to improve performance\n",
    "param_grid = {\n",
    "    'n_estimators': [100, 200],\n",
    "    'learning_rate': [0.05, 0.1, 0.2],\n",
    "    'max_depth': [3, 4, 5]\n",
    "}\n",
    "\n",
    "grid = GridSearchCV(\n",
    "    GradientBoostingClassifier(random_state=42),\n",
    "    param_grid,\n",
    "    cv=5,\n",
    "    scoring='f1',\n",
    "    verbose=1,\n",
    "    n_jobs=-1\n",
    ")\n",
    "grid.fit(X_train, y_train)\n",
    "\n",
    "print(\"Best Parameters:\", grid.best_params_)"
   ]
  },
  {
   "cell_type": "code",
   "execution_count": 23,
   "id": "3c8bf328-e676-4047-9dc8-6801cdfe2457",
   "metadata": {},
   "outputs": [
    {
     "name": "stdout",
     "output_type": "stream",
     "text": [
      "\n",
      "Classification Report (Tuned Gradient Boosting):\n",
      "              precision    recall  f1-score   support\n",
      "\n",
      "           0       0.95      0.97      0.96      7310\n",
      "           1       0.69      0.56      0.62       928\n",
      "\n",
      "    accuracy                           0.92      8238\n",
      "   macro avg       0.82      0.76      0.79      8238\n",
      "weighted avg       0.92      0.92      0.92      8238\n",
      "\n"
     ]
    }
   ],
   "source": [
    "# Evaluate the best model selected from grid search\n",
    "best_model = grid.best_estimator_\n",
    "y_pred = best_model.predict(X_test)\n",
    "\n",
    "print(\"\\nClassification Report (Tuned Gradient Boosting):\")\n",
    "print(classification_report(y_test, y_pred))"
   ]
  },
  {
   "cell_type": "code",
   "execution_count": 24,
   "id": "06c4ef52-c03b-44cb-b3c6-b7da51dcc179",
   "metadata": {},
   "outputs": [
    {
     "data": {
      "image/png": "[encoded data removed]",
      "text/plain": [
       "<Figure size 640x480 with 2 Axes>"
      ]
     },
     "metadata": {},
     "output_type": "display_data"
    }
   ],
   "source": [
    "# Show confusion matrix for visual analysis of classification\n",
    "cm = confusion_matrix(y_test, y_pred)\n",
    "sns.heatmap(cm, annot=True, fmt='d', cmap='Blues')\n",
    "plt.title(\"Confusion Matrix: Tuned Gradient Boosting\")\n",
    "plt.xlabel(\"Predicted\")\n",
    "plt.ylabel(\"Actual\")\n",
    "plt.show()"
   ]
  },
  {
   "cell_type": "code",
   "execution_count": 25,
   "id": "56bb8b9d-1d88-42e1-aa1b-18326ee1f881",
   "metadata": {},
   "outputs": [
    {
     "data": {
      "text/plain": [
       "['best_model_gb_tuned.pkl']"
      ]
     },
     "execution_count": 25,
     "metadata": {},
     "output_type": "execute_result"
    }
   ],
   "source": [
    "# Save the tuned Gradient Boosting model to disk\n",
    "joblib.dump(best_model, 'best_model_gb_tuned.pkl')"
   ]
  },
  {
   "cell_type": "code",
   "execution_count": 26,
   "id": "79c9d41b-7a8e-4a34-97ef-14d287844119",
   "metadata": {},
   "outputs": [
    {
     "name": "stdout",
     "output_type": "stream",
     "text": [
      "\n",
      "Classification Report (Stacking Classifier):\n",
      "              precision    recall  f1-score   support\n",
      "\n",
      "           0       0.94      0.97      0.96      7310\n",
      "           1       0.70      0.55      0.62       928\n",
      "\n",
      "    accuracy                           0.92      8238\n",
      "   macro avg       0.82      0.76      0.79      8238\n",
      "weighted avg       0.92      0.92      0.92      8238\n",
      "\n"
     ]
    }
   ],
   "source": [
    "#  Optional: Use stacking classifier to ensemble Gradient Boosting with other models\n",
    "base_learners = [\n",
    "    ('gb', GradientBoostingClassifier(**grid.best_params_)),\n",
    "    ('dt', DecisionTreeClassifier(max_depth=5)),\n",
    "    ('svc', SVC(probability=True))\n",
    "]\n",
    "\n",
    "stack_model = StackingClassifier(\n",
    "    estimators=base_learners,\n",
    "    final_estimator=LogisticRegression(),\n",
    "    cv=5,\n",
    "    n_jobs=-1\n",
    ")\n",
    "\n",
    "stack_model.fit(X_train, y_train)\n",
    "y_stack_pred = stack_model.predict(X_test)\n",
    "\n",
    "print(\"\\nClassification Report (Stacking Classifier):\")\n",
    "print(classification_report(y_test, y_stack_pred))"
   ]
  },
  {
   "cell_type": "code",
   "execution_count": 27,
   "id": "5ce2d096-bd10-411c-897a-5429fe63c390",
   "metadata": {},
   "outputs": [
    {
     "name": "stdout",
     "output_type": "stream",
     "text": [
      "Optimal threshold: 0.38\n",
      "\n",
      "Classification Report (Optimized Threshold):\n",
      "              precision    recall  f1-score   support\n",
      "\n",
      "           0       0.96      0.95      0.96      7310\n",
      "           1       0.63      0.73      0.67       928\n",
      "\n",
      "    accuracy                           0.92      8238\n",
      "   macro avg       0.80      0.84      0.82      8238\n",
      "weighted avg       0.93      0.92      0.92      8238\n",
      "\n"
     ]
    }
   ],
   "source": [
    "# Adjust classification threshold to maximize F1-score\n",
    "y_probs = best_model.predict_proba(X_test)[:, 1]\n",
    "precisions, recalls, thresholds = precision_recall_curve(y_test, y_probs)\n",
    "\n",
    "f1_scores = 2 * (precisions * recalls) / (precisions + recalls + 1e-10)\n",
    "best_threshold = thresholds[np.argmax(f1_scores)]\n",
    "\n",
    "print(f\"Optimal threshold: {best_threshold:.2f}\")\n",
    "\n",
    "y_pred_opt = (y_probs >= best_threshold).astype(int)\n",
    "print(\"\\nClassification Report (Optimized Threshold):\")\n",
    "print(classification_report(y_test, y_pred_opt))"
   ]
  },
  {
   "cell_type": "code",
   "execution_count": 28,
   "id": "920956aa-3575-403e-91b2-61cbd35dc561",
   "metadata": {},
   "outputs": [
    {
     "name": "stdout",
     "output_type": "stream",
     "text": [
      "\n",
      "🔍 Top 10 fused feature pairs by F1-score:\n",
      "duration_poutcome_success_fused → F1-score: 0.6267\n",
      "euribor3m_pdays_fused → F1-score: 0.6262\n",
      "duration_euribor3m_fused → F1-score: 0.6237\n",
      "nr.employed_poutcome_success_fused → F1-score: 0.6233\n",
      "euribor3m_month_oct_fused → F1-score: 0.6226\n",
      "pdays_month_oct_fused → F1-score: 0.6219\n",
      "euribor3m_cons.price.idx_fused → F1-score: 0.6212\n",
      "poutcome_success_month_oct_fused → F1-score: 0.6202\n",
      "nr.employed_cons.price.idx_fused → F1-score: 0.6193\n",
      "poutcome_success_cons.price.idx_fused → F1-score: 0.6191\n"
     ]
    }
   ],
   "source": [
    "# Multiply pairs of numeric features to discover synergistic interactions\n",
    "numeric_feats = importance_df[importance_df['Importance'] > 0.01]['Feature'].tolist()\n",
    "scaler = StandardScaler()\n",
    "X_train_scaled = pd.DataFrame(scaler.fit_transform(X_train[numeric_feats]), columns=numeric_feats)\n",
    "X_test_scaled = pd.DataFrame(scaler.transform(X_test[numeric_feats]), columns=numeric_feats)\n",
    "\n",
    "fused_scores = {}\n",
    "for f1, f2 in combinations(numeric_feats, 2):\n",
    "    X_fused_train = X_train_scaled.copy()\n",
    "    X_fused_test = X_test_scaled.copy()\n",
    "\n",
    "    fused_col = f\"{f1}_{f2}_fused\"\n",
    "    X_fused_train[fused_col] = X_train_scaled[f1] * X_train_scaled[f2]\n",
    "    X_fused_test[fused_col] = X_test_scaled[f1] * X_test_scaled[f2]\n",
    "\n",
    "    model_temp = GradientBoostingClassifier(**grid.best_params_)\n",
    "    model_temp.fit(X_fused_train, y_train)\n",
    "    y_pred_fused = model_temp.predict(X_fused_test)\n",
    "    fused_scores[fused_col] = f1_score(y_test, y_pred_fused)\n",
    "\n",
    "# Print top 10 fused features by F1 score\n",
    "top_fused = sorted(fused_scores.items(), key=lambda x: x[1], reverse=True)[:10]\n",
    "print(\"\\n🔍 Top 10 fused feature pairs by F1-score:\")\n",
    "for name, score in top_fused:\n",
    "    print(f\"{name} → F1-score: {score:.4f}\")\n"
   ]
  },
  {
   "cell_type": "code",
   "execution_count": 29,
   "id": "de073c6b-4e3a-4616-b556-186c819fa796",
   "metadata": {},
   "outputs": [
    {
     "name": "stdout",
     "output_type": "stream",
     "text": [
      "✅ Optimized threshold model saved as 'optimized_threshold_model.pkl'\n"
     ]
    }
   ],
   "source": [
    "# Save the model and optimal threshold together for future use\n",
    "optimized_model_package = {\n",
    "    'model': best_model,\n",
    "    'threshold': best_threshold,\n",
    "    'features': X_selected.columns.tolist()  # Save which features were used\n",
    "}\n",
    "\n",
    "joblib.dump(optimized_model_package, 'optimized_threshold_model.pkl')\n",
    "print(\"✅ Optimized threshold model saved as 'optimized_threshold_model.pkl'\")"
   ]
  }
 ],
 "metadata": {
  "kernelspec": {
   "display_name": "Python (venv)",
   "language": "python",
   "name": "venv"
  },
  "language_info": {
   "codemirror_mode": {
    "name": "ipython",
    "version": 3
   },
   "file_extension": ".py",
   "mimetype": "text/x-python",
   "name": "python",
   "nbconvert_exporter": "python",
   "pygments_lexer": "ipython3",
   "version": "3.11.0"
  }
 },
 "nbformat": 4,
 "nbformat_minor": 5
}
