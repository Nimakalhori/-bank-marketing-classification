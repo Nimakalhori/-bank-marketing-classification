{
 "cells": [
  {
   "cell_type": "code",
   "execution_count": null,
   "id": "31a72333-92ec-4a55-9706-61e7a36ba920",
   "metadata": {},
   "outputs": [],
   "source": []
  }
 ],
 "metadata": {
  "kernelspec": {
   "display_name": "",
   "name": ""
  },
  "language_info": {
   "name": ""
  }
 },
 "nbformat": 4,
 "nbformat_minor": 5
}
