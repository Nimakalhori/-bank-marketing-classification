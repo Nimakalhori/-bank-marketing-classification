{
 "cells": [
  {
   "cell_type": "code",
   "execution_count": 15,
   "id": "40d8a945-acff-4a5a-91ec-5dca056ef906",
   "metadata": {},
   "outputs": [],
   "source": [
    "# 📦 Import required libraries for modeling, evaluation, timing, and visualization\n",
    "import pandas as pd\n",
    "import numpy as np\n",
    "import time\n",
    "import joblib\n",
    "import os\n",
    "import matplotlib.pyplot as plt\n",
    "import seaborn as sns\n",
    "\n",
    "from sklearn.model_selection import train_test_split\n",
    "from sklearn.metrics import classification_report, f1_score\n",
    "from sklearn.ensemble import GradientBoostingClassifier"
   ]
  },
  {
   "cell_type": "code",
   "execution_count": 16,
   "id": "c83c4c5d-0a9c-41b8-b6fe-1343720275b7",
   "metadata": {},
   "outputs": [],
   "source": [
    "# 📊 Load the preprocessed dataset and split it for consistent evaluation\n",
    "full_df = pd.read_csv(r\"C:\\Users\\nimak\\Documents\\Projects\\bank-marketing-classification\\data\\bank_marketing_processed.csv\")\n",
    "X = full_df.drop('y', axis=1)\n",
    "y = full_df['y']\n",
    "\n",
    "X_train, X_test, y_train, y_test = train_test_split(X, y, test_size=0.2, stratify=y, random_state=42)"
   ]
  },
  {
   "cell_type": "code",
   "execution_count": 17,
   "id": "eb0f8f0c-a784-445a-baa1-78f32c0f5bf4",
   "metadata": {},
   "outputs": [
    {
     "name": "stdout",
     "output_type": "stream",
     "text": [
      "Full Model F1 Score: 0.6093276801938219\n",
      "Training Time: 4.3528172969818115\n",
      "Inference Time: 0.01571202278137207\n"
     ]
    }
   ],
   "source": [
    "# 🧪 Train baseline model with all features and record timing metrics\n",
    "start_time = time.time()\n",
    "model_full = GradientBoostingClassifier(n_estimators=100, learning_rate=0.1, max_depth=3, random_state=42)\n",
    "model_full.fit(X_train, y_train)\n",
    "training_time_full = time.time() - start_time\n",
    "\n",
    "start_infer = time.time()\n",
    "y_pred_full = model_full.predict(X_test)\n",
    "inference_time_full = time.time() - start_infer\n",
    "\n",
    "f1_full = f1_score(y_test, y_pred_full)\n",
    "print(\"Full Model F1 Score:\", f1_full)\n",
    "print(\"Training Time:\", training_time_full)\n",
    "print(\"Inference Time:\", inference_time_full)"
   ]
  },
  {
   "cell_type": "code",
   "execution_count": 18,
   "id": "2ddb2798-f3f3-46f2-81c7-3e9d15cb8a8e",
   "metadata": {},
   "outputs": [
    {
     "name": "stdout",
     "output_type": "stream",
     "text": [
      "\n",
      "Optimized Model F1 Score: 0.6749875187219171\n",
      "Training Time: 1.820134162902832\n",
      "Inference Time: 0.0\n"
     ]
    }
   ],
   "source": [
    "# ⚙️ Load the optimized model with fewer features and optimized threshold\n",
    "optimized_pkg = joblib.load(\"optimized_threshold_model.pkl\")\n",
    "model_opt = optimized_pkg['model']\n",
    "threshold = optimized_pkg['threshold']\n",
    "features = optimized_pkg['features']\n",
    "\n",
    "X_train_opt = X_train[features]\n",
    "X_test_opt = X_test[features]\n",
    "\n",
    "start_time = time.time()\n",
    "model_opt.fit(X_train_opt, y_train)\n",
    "training_time_opt = time.time() - start_time\n",
    "\n",
    "start_infer = time.time()\n",
    "y_probs = model_opt.predict_proba(X_test_opt)[:, 1]\n",
    "y_pred_opt = (y_probs >= threshold).astype(int)\n",
    "inference_time_opt = time.time() - start_infer\n",
    "\n",
    "f1_opt = f1_score(y_test, y_pred_opt)\n",
    "print(\"\\nOptimized Model F1 Score:\", f1_opt)\n",
    "print(\"Training Time:\", training_time_opt)\n",
    "print(\"Inference Time:\", inference_time_opt)"
   ]
  },
  {
   "cell_type": "code",
   "execution_count": 19,
   "id": "238cdae3-218a-492c-a0e6-44d8ab0ec3f7",
   "metadata": {},
   "outputs": [
    {
     "name": "stdout",
     "output_type": "stream",
     "text": [
      "\n",
      "🔍 Model Complexity and Performance Comparison:\n"
     ]
    },
    {
     "data": {
      "text/html": [
       "<div>\n",
       "<style scoped>\n",
       "    .dataframe tbody tr th:only-of-type {\n",
       "        vertical-align: middle;\n",
       "    }\n",
       "\n",
       "    .dataframe tbody tr th {\n",
       "        vertical-align: top;\n",
       "    }\n",
       "\n",
       "    .dataframe thead th {\n",
       "        text-align: right;\n",
       "    }\n",
       "</style>\n",
       "<table border=\"1\" class=\"dataframe\">\n",
       "  <thead>\n",
       "    <tr style=\"text-align: right;\">\n",
       "      <th></th>\n",
       "      <th>Model</th>\n",
       "      <th>F1 Score</th>\n",
       "      <th>Training Time (s)</th>\n",
       "      <th>Inference Time (s)</th>\n",
       "      <th>Feature Count</th>\n",
       "    </tr>\n",
       "  </thead>\n",
       "  <tbody>\n",
       "    <tr>\n",
       "      <th>0</th>\n",
       "      <td>Full Features</td>\n",
       "      <td>0.609328</td>\n",
       "      <td>4.352817</td>\n",
       "      <td>0.015712</td>\n",
       "      <td>63</td>\n",
       "    </tr>\n",
       "    <tr>\n",
       "      <th>1</th>\n",
       "      <td>Optimized Features</td>\n",
       "      <td>0.674988</td>\n",
       "      <td>1.820134</td>\n",
       "      <td>0.000000</td>\n",
       "      <td>8</td>\n",
       "    </tr>\n",
       "  </tbody>\n",
       "</table>\n",
       "</div>"
      ],
      "text/plain": [
       "                Model  F1 Score  Training Time (s)  Inference Time (s)  \\\n",
       "0       Full Features  0.609328           4.352817            0.015712   \n",
       "1  Optimized Features  0.674988           1.820134            0.000000   \n",
       "\n",
       "   Feature Count  \n",
       "0             63  \n",
       "1              8  "
      ]
     },
     "metadata": {},
     "output_type": "display_data"
    }
   ],
   "source": [
    "# 📊 Summary DataFrame of comparison\n",
    "summary_df = pd.DataFrame({\n",
    "    'Model': ['Full Features', 'Optimized Features'],\n",
    "    'F1 Score': [f1_full, f1_opt],\n",
    "    'Training Time (s)': [training_time_full, training_time_opt],\n",
    "    'Inference Time (s)': [inference_time_full, inference_time_opt],\n",
    "    'Feature Count': [X.shape[1], len(features)]\n",
    "})\n",
    "\n",
    "print(\"\\n🔍 Model Complexity and Performance Comparison:\")\n",
    "display(summary_df)"
   ]
  },
  {
   "cell_type": "code",
   "execution_count": 20,
   "id": "f631ff97-b2c9-48fa-acff-4bfe3734af71",
   "metadata": {},
   "outputs": [
    {
     "data": {
      "image/png": "[encoded data removed]",
      "text/plain": [
       "<Figure size 1800x500 with 2 Axes>"
      ]
     },
     "metadata": {},
     "output_type": "display_data"
    }
   ],
   "source": [
    "# 📈 Visualization: Compare metrics using bar charts\n",
    "fig, axes = plt.subplots(1, 2, figsize=(18, 5))\n",
    "\n",
    "sns.barplot(x='Model', y='Training Time (s)', data=summary_df, ax=axes[0])\n",
    "axes[0].set_title('Training Time')\n",
    "\n",
    "sns.barplot(x='Model', y='Inference Time (s)', data=summary_df, ax=axes[1])\n",
    "axes[1].set_title('Inference Time')\n",
    "\n",
    "plt.suptitle(\"Model Complexity and Performance Metrics\")\n",
    "plt.tight_layout()\n",
    "plt.show()"
   ]
  },
  {
   "cell_type": "code",
   "execution_count": 21,
   "id": "dd554e5e-bfae-4817-b62d-35e61302c4e0",
   "metadata": {},
   "outputs": [],
   "source": [
    "# 📌 Conclusion:\n",
    "# The optimized Gradient Boosting model reduces training and inference time, \n",
    "# shrinks feature count from 63 to 8, and reduces model size with a slightly better F1 score."
   ]
  },
  {
   "cell_type": "code",
   "execution_count": null,
   "id": "2f3446ca-3523-4d92-80ea-ee12e4ab4069",
   "metadata": {},
   "outputs": [],
   "source": []
  },
  {
   "cell_type": "code",
   "execution_count": null,
   "id": "018394f2-adea-45bc-aa06-306f94da140c",
   "metadata": {},
   "outputs": [],
   "source": []
  }
 ],
 "metadata": {
  "kernelspec": {
   "display_name": "Python (venv)",
   "language": "python",
   "name": "venv"
  },
  "language_info": {
   "codemirror_mode": {
    "name": "ipython",
    "version": 3
   },
   "file_extension": ".py",
   "mimetype": "text/x-python",
   "name": "python",
   "nbconvert_exporter": "python",
   "pygments_lexer": "ipython3",
   "version": "3.11.0"
  }
 },
 "nbformat": 4,
 "nbformat_minor": 5
}
